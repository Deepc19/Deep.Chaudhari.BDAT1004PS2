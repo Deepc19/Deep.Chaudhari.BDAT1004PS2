{
 "cells": [
  {
   "cell_type": "code",
   "execution_count": 1,
   "id": "abf3bd3a",
   "metadata": {},
   "outputs": [
    {
     "data": {
      "text/plain": [
       "6"
      ]
     },
     "execution_count": 1,
     "metadata": {},
     "output_type": "execute_result"
    }
   ],
   "source": [
    "# Question 1\n",
    "\n",
    "# Initially a is initiallized as 0\n",
    "a = 0\n",
    "\n",
    "# fuction b is created\n",
    "def b():\n",
    "    global a\n",
    "    a = c(a)\n",
    "\n",
    "# function c is created\n",
    "def c(a):\n",
    "    return a + 2\n",
    "\n",
    "b()\n",
    "# variable 'a' is taken and passed it to function c where, 2 is added and value of 'a' becomes 2\n",
    "\n",
    "b()\n",
    "# variable 'a' is taken and passed it to function c where, 2 is added again and value of 'a' becomes 4\n",
    "\n",
    "b()\n",
    "# variable 'a' is taken and passed it to function c where, 2 is added again and value of 'a' becomes 6\n",
    "\n",
    "a\n",
    "# value of 'a' is printed which is 6.\n",
    "\n",
    "\n"
   ]
  },
  {
   "cell_type": "code",
   "execution_count": 21,
   "id": "0706881d",
   "metadata": {},
   "outputs": [
    {
     "name": "stdout",
     "output_type": "stream",
     "text": [
      "25\n"
     ]
    }
   ],
   "source": [
    "# Question 2\n",
    "\n",
    "import os\n",
    "\n",
    "def fileLength(file):\n",
    "    print(os.path.getsize(file))\n",
    "    \n",
    "fileLength(\"part2.txt\")"
   ]
  },
  {
   "cell_type": "code",
   "execution_count": 22,
   "id": "d7a08455",
   "metadata": {},
   "outputs": [
    {
     "name": "stdout",
     "output_type": "stream",
     "text": [
      "['doll', 'firetruck', 'kitten']\n"
     ]
    }
   ],
   "source": [
    "# Question 3\n",
    "\n",
    "class Marsupial:\n",
    "    def __init__(self):\n",
    "        self.pouch = []\n",
    "\n",
    "    def put_in_pouch(self, item):\n",
    "        self.pouch.append(item)\n",
    "\n",
    "    def pouch_contents(self):\n",
    "        return self.pouch\n",
    "\n",
    "\n",
    "m = Marsupial()\n",
    "m.put_in_pouch('doll')\n",
    "m.put_in_pouch('firetruck')\n",
    "m.put_in_pouch('kitten')\n",
    "print(m.pouch_contents())  # Output: ['doll', 'firetruck', 'kitten']\n"
   ]
  },
  {
   "cell_type": "code",
   "execution_count": 26,
   "id": "2b369bc8",
   "metadata": {},
   "outputs": [
    {
     "name": "stdout",
     "output_type": "stream",
     "text": [
      "I am a Kangaroo located at coordinates (0,0)\n",
      "['doll', 'firetruck', 'kitten']\n",
      "I am a Kangaroo located at coordinates (3,0)\n"
     ]
    }
   ],
   "source": [
    "class Kangaroo(Marsupial):\n",
    "    def __init__(self, x=0, y=0):\n",
    "        super().__init__()\n",
    "        self.x = x\n",
    "        self.y = y\n",
    "\n",
    "    def jump(self, dx, dy):\n",
    "        self.x += dx\n",
    "        self.y += dy\n",
    "\n",
    "    def __str__(self):\n",
    "        return f\"I am a Kangaroo located at coordinates ({self.x},{self.y})\"\n",
    "k = Kangaroo(0,0)\n",
    "print(k)\n",
    "\n",
    "k.put_in_pouch('doll')\n",
    "k.put_in_pouch('firetruck')\n",
    "k.put_in_pouch('kitten')\n",
    "print(k.pouch_contents())\n",
    "k.jump(1,0)\n",
    "k.jump(1,0)\n",
    "k.jump(1,0)\n",
    "print(k)"
   ]
  },
  {
   "cell_type": "code",
   "execution_count": 27,
   "id": "2d9ba1c0",
   "metadata": {},
   "outputs": [
    {
     "name": "stdout",
     "output_type": "stream",
     "text": [
      "1\n",
      "10\n",
      "5\n",
      "16\n",
      "8\n",
      "4\n",
      "2\n",
      "1\n"
     ]
    }
   ],
   "source": [
    "# Question 4\n",
    "\n",
    "def collatz(x):\n",
    "    print(x)\n",
    "    if x == 1:\n",
    "        return\n",
    "    elif x % 2 == 0:\n",
    "        collatz(x // 2)\n",
    "    else:\n",
    "        collatz(3*x + 1)\n",
    "\n",
    "collatz(1)\n",
    "collatz(10)"
   ]
  },
  {
   "cell_type": "code",
   "execution_count": 1,
   "id": "8c7f9db7",
   "metadata": {},
   "outputs": [],
   "source": [
    "# Question 5\n",
    "\n",
    "def binary(n):\n",
    "    if n == 0:\n",
    "        return 0\n",
    "    binary(n // 2)\n",
    "    print(n % 2, end='')\n"
   ]
  },
  {
   "cell_type": "code",
   "execution_count": 2,
   "id": "e9274737",
   "metadata": {},
   "outputs": [
    {
     "data": {
      "text/plain": [
       "0"
      ]
     },
     "execution_count": 2,
     "metadata": {},
     "output_type": "execute_result"
    }
   ],
   "source": [
    "binary(0)"
   ]
  },
  {
   "cell_type": "code",
   "execution_count": 3,
   "id": "c102b774",
   "metadata": {},
   "outputs": [
    {
     "name": "stdout",
     "output_type": "stream",
     "text": [
      "1"
     ]
    }
   ],
   "source": [
    "binary(1)"
   ]
  },
  {
   "cell_type": "code",
   "execution_count": 4,
   "id": "80e66690",
   "metadata": {},
   "outputs": [
    {
     "name": "stdout",
     "output_type": "stream",
     "text": [
      "11"
     ]
    }
   ],
   "source": [
    "binary(3)"
   ]
  },
  {
   "cell_type": "code",
   "execution_count": 5,
   "id": "446e1d29",
   "metadata": {},
   "outputs": [
    {
     "name": "stdout",
     "output_type": "stream",
     "text": [
      "1001"
     ]
    }
   ],
   "source": [
    "binary(9)"
   ]
  },
  {
   "cell_type": "code",
   "execution_count": 64,
   "id": "38482f3c",
   "metadata": {},
   "outputs": [
    {
     "name": "stdout",
     "output_type": "stream",
     "text": [
      "h1\n",
      " h2\n"
     ]
    }
   ],
   "source": [
    "# Question 6\n",
    "\n",
    "from html.parser import HTMLParser\n",
    "\n",
    "class HeadingParser(HTMLParser):\n",
    "    def __init__(self):\n",
    "        super().__init__()\n",
    "        self.headings = []\n",
    "\n",
    "    def handle_starttag(self, tag, attribute):\n",
    "        if tag.startswith('h'):\n",
    "            self.headings.append(tag)\n",
    "\n",
    "    def handle_endtag(self, tag):\n",
    "        if tag.startswith('h'):\n",
    "            heading = self.headings.pop()\n",
    "            if(heading == 'h1'):\n",
    "                print(heading)\n",
    "            elif(heading == 'h2'):\n",
    "                print(\" \"+ heading)\n",
    "            elif(heading == 'h3'):\n",
    "                print(\"  \" + heading)\n",
    "            elif(heading == 'h4'):\n",
    "                print(\"   \" + heading)\n",
    "            elif(heading == 'h5'):\n",
    "                print(\"    \" + heading)\n",
    "            elif(heading == 'h6'):\n",
    "                print(\"     \" + heading)    \n",
    "\n",
    "\n",
    "\n",
    "if __name__ == '__main__':\n",
    "    with open('w3c.html') as f:\n",
    "        parser = HeadingParser()\n",
    "        parser.feed(f.read())"
   ]
  },
  {
   "cell_type": "code",
   "execution_count": 26,
   "id": "43803852",
   "metadata": {},
   "outputs": [
    {
     "ename": "OperationalError",
     "evalue": "table data already exists",
     "output_type": "error",
     "traceback": [
      "\u001b[1;31m---------------------------------------------------------------------------\u001b[0m",
      "\u001b[1;31mOperationalError\u001b[0m                          Traceback (most recent call last)",
      "\u001b[1;32m~\\AppData\\Local\\Temp\\ipykernel_20420\\2971952209.py\u001b[0m in \u001b[0;36m<module>\u001b[1;34m\u001b[0m\n\u001b[0;32m     20\u001b[0m )\n\u001b[0;32m     21\u001b[0m \u001b[1;33m\u001b[0m\u001b[0m\n\u001b[1;32m---> 22\u001b[1;33m \u001b[0mc\u001b[0m\u001b[1;33m.\u001b[0m\u001b[0mexecute\u001b[0m\u001b[1;33m(\u001b[0m\u001b[1;34m'''CREATE TABLE data (City TEXT, Country TEXT, Season TEXT, Temperature TEXT, Rainfall TEXT)'''\u001b[0m\u001b[1;33m)\u001b[0m\u001b[1;33m\u001b[0m\u001b[1;33m\u001b[0m\u001b[0m\n\u001b[0m\u001b[0;32m     23\u001b[0m \u001b[1;33m\u001b[0m\u001b[0m\n\u001b[0;32m     24\u001b[0m \u001b[0mquery\u001b[0m \u001b[1;33m=\u001b[0m \u001b[1;34m\"INSERT INTO data (City, Country, Season, Temperature, Rainfall) VALUES (?, ?, ?, ?, ?)\"\u001b[0m\u001b[1;33m\u001b[0m\u001b[1;33m\u001b[0m\u001b[0m\n",
      "\u001b[1;31mOperationalError\u001b[0m: table data already exists"
     ]
    }
   ],
   "source": [
    "# Question 8\n",
    "\n",
    "import sqlite3\n",
    "connect = sqlite3.connect('datapart2')\n",
    "c = connect.cursor()\n",
    "\n",
    "data = (    \n",
    "    ['Mumbai', 'India', 'Winter', 24.8, 5.9],\n",
    "    ['Mumbai', 'India', 'Spring', 28.4, 16.2],\n",
    "    ['Mumbai', 'India', 'Summer', 27.9, 1549.4],\n",
    "    ['Mumbai', 'India', 'Fall', 27.6, 346.0],\n",
    "    ['London', 'United Kingdom', 'Winter', 4.2, 207.7],\n",
    "    ['London', 'United Kingdom', 'Spring', 8.3, 169.6],\n",
    "    ['London', 'United Kingdom', 'Summer', 15.7, 157.0],\n",
    "    ['London', 'United Kingdom', 'Fall', 10.4, 218.5],\n",
    "    ['Cairo', 'Egypt', 'Winter', 13.6, 16.5],\n",
    "    ['Cairo', 'Egypt', 'Spring', 20.7, 6.5],\n",
    "    ['Cairo', 'Egypt', 'Summer', 27.7, 0.1],\n",
    "    ['Cairo', 'Egypt', 'Fall', 22.2, 4.5]\n",
    ")\n",
    "\n",
    "c.execute('''CREATE TABLE data (City TEXT, Country TEXT, Season TEXT, Temperature TEXT, Rainfall TEXT)''')\n",
    "\n",
    "query = \"INSERT INTO data (City, Country, Season, Temperature, Rainfall) VALUES (?, ?, ?, ?, ?)\"\n",
    "c.executemany(query, data)\n",
    "connect.commit()\n",
    "\n"
   ]
  },
  {
   "cell_type": "code",
   "execution_count": 28,
   "id": "32a4d68c",
   "metadata": {},
   "outputs": [
    {
     "name": "stdout",
     "output_type": "stream",
     "text": [
      "('Mumbai', 'India', 'Winter', '24.8', '5.9')\n",
      "('Mumbai', 'India', 'Spring', '28.4', '16.2')\n",
      "('Mumbai', 'India', 'Summer', '27.9', '1549.4')\n",
      "('Mumbai', 'India', 'Fall', '27.6', '346.0')\n",
      "('London', 'United Kingdom', 'Winter', '4.2', '207.7')\n",
      "('London', 'United Kingdom', 'Spring', '8.3', '169.6')\n",
      "('London', 'United Kingdom', 'Summer', '15.7', '157.0')\n",
      "('London', 'United Kingdom', 'Fall', '10.4', '218.5')\n",
      "('Cairo', 'Egypt', 'Winter', '13.6', '16.5')\n",
      "('Cairo', 'Egypt', 'Spring', '20.7', '6.5')\n",
      "('Cairo', 'Egypt', 'Summer', '27.7', '0.1')\n",
      "('Cairo', 'Egypt', 'Fall', '22.2', '4.5')\n"
     ]
    }
   ],
   "source": [
    "# Printing All the inserted data\n",
    "c.execute(\"SELECT * from data\")\n",
    "rows = c.fetchall()\n",
    "for row in rows:\n",
    "    print(row)"
   ]
  },
  {
   "cell_type": "code",
   "execution_count": 44,
   "id": "e5c17a04",
   "metadata": {},
   "outputs": [
    {
     "name": "stdout",
     "output_type": "stream",
     "text": [
      "[('24.8',), ('28.4',), ('27.9',), ('27.6',), ('4.2',), ('8.3',), ('15.7',), ('10.4',), ('13.6',), ('20.7',), ('27.7',), ('22.2',)] \n",
      "\n",
      "[('Mumbai',), ('London',), ('Cairo',)] \n",
      "\n",
      "[('Mumbai', 'India', 'Winter', '24.8', '5.9'), ('Mumbai', 'India', 'Spring', '28.4', '16.2'), ('Mumbai', 'India', 'Summer', '27.9', '1549.4'), ('Mumbai', 'India', 'Fall', '27.6', '346.0')] \n",
      "\n",
      "[('Mumbai', 'India', 'Fall', '27.6', '346.0'), ('London', 'United Kingdom', 'Fall', '10.4', '218.5'), ('Cairo', 'Egypt', 'Fall', '22.2', '4.5')] \n",
      "\n",
      "[('London', 'United Kingdom', 'Fall'), ('London', 'United Kingdom', 'Winter'), ('Mumbai', 'India', 'Fall')] \n",
      "\n",
      "[('Cairo', 'Egypt'), ('Mumbai', 'India')] \n",
      "\n",
      "[(27.6,)] \n",
      "\n",
      "[('Fall', 569.0), ('Spring', 192.29999999999998), ('Summer', 1706.5), ('Winter', 230.1)] \n",
      "\n"
     ]
    }
   ],
   "source": [
    "# Question 8 (A to H)\n",
    "\n",
    "print(c.execute(\"SELECT temperature FROM data\").fetchall(), \"\\n\")\n",
    "\n",
    "print(c.execute(\"SELECT DISTINCT City FROM data\").fetchall(), \"\\n\")\n",
    "\n",
    "print(c.execute(\"SELECT * FROM data WHERE Country='India'\").fetchall(), \"\\n\")\n",
    "\n",
    "print(c.execute(\"SELECT * FROM data WHERE Season='Fall'\").fetchall(), \"\\n\")\n",
    "\n",
    "print(c.execute(\"SELECT City, Country, Season FROM data GROUP BY City, Country, Season HAVING AVG(Rainfall) BETWEEN 200 AND 400\").fetchall(), \"\\n\")\n",
    "\n",
    "print(c.execute(\"SELECT City, Country FROM data WHERE Season='Fall' GROUP BY City, Country HAVING AVG(Temperature) > 20 ORDER BY AVG(temperature) ASC\").fetchall(), \"\\n\")\n",
    "\n",
    "print(c.execute(\"SELECT SUM(Rainfall) FROM data WHERE City='Cairo'\").fetchall(), \"\\n\")\n",
    "\n",
    "print(c.execute(\"SELECT Season, SUM(Rainfall) FROM data GROUP BY Season\").fetchall(), \"\\n\")\n"
   ]
  },
  {
   "cell_type": "code",
   "execution_count": 20,
   "id": "11b0c6b0",
   "metadata": {},
   "outputs": [
    {
     "name": "stdout",
     "output_type": "stream",
     "text": [
      "['THE', 'QUICK', 'BROWN', 'FOX', 'JUMPS', 'OVER', 'THE', 'LAZY', 'DOG']\n",
      "['the', 'quick', 'brown', 'fox', 'jumps', 'over', 'the', 'lazy', 'dog']\n",
      "[3, 5, 5, 3, 5, 4, 3, 4, 3]\n",
      "[['THE', 'the', 3], ['QUICK', 'quick', 5], ['BROWN', 'brown', 5], ['FOX', 'fox', 3], ['JUMPS', 'jumps', 5], ['OVER', 'over', 4], ['THE', 'the', 3], ['LAZY', 'lazy', 4], ['DOG', 'dog', 3]]\n",
      "['quick', 'brown', 'jumps', 'over', 'lazy']\n"
     ]
    }
   ],
   "source": [
    "words = ['The', 'quick', 'brown', 'fox', 'jumps', 'over', 'the', 'lazy', 'dog']\n",
    "capitalLetters = [''] * len(words)\n",
    "smallLetters = [''] * len(words)\n",
    "count = [0] * len(words)\n",
    "capitalSmallCount = []\n",
    "fourLetters = []\n",
    "\n",
    "for i, word in enumerate(words):\n",
    "    capitalLetters[i] = word.upper()\n",
    "print(capitalLetters)\n",
    "\n",
    "\n",
    "for i, word in enumerate(words):\n",
    "    smallLetters[i] = word.lower()\n",
    "print(smallLetters)\n",
    "\n",
    "\n",
    "for i, word in enumerate(words):\n",
    "    count[i] = len(word)\n",
    "print(count)\n",
    "\n",
    "\n",
    "for i, word in enumerate(words):\n",
    "    capitalSmallCount.append([capitalLetters[i], smallLetters[i], count[i]])\n",
    "print(capitalSmallCount)\n",
    "\n",
    "\n",
    "for i, word in enumerate(words):\n",
    "    if(len(word)>= 4):\n",
    "        fourLetters.append(word)\n",
    "print(fourLetters)\n",
    "\n"
   ]
  }
 ],
 "metadata": {
  "kernelspec": {
   "display_name": "Python 3 (ipykernel)",
   "language": "python",
   "name": "python3"
  },
  "language_info": {
   "codemirror_mode": {
    "name": "ipython",
    "version": 3
   },
   "file_extension": ".py",
   "mimetype": "text/x-python",
   "name": "python",
   "nbconvert_exporter": "python",
   "pygments_lexer": "ipython3",
   "version": "3.9.13"
  }
 },
 "nbformat": 4,
 "nbformat_minor": 5
}
